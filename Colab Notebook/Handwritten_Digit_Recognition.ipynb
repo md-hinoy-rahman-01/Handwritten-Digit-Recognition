{
  "nbformat": 4,
  "nbformat_minor": 0,
  "metadata": {
    "colab": {
      "provenance": [],
      "collapsed_sections": [
        "PidM-9Id05iM",
        "Fd8ZQHfw1lkD"
      ]
    },
    "kernelspec": {
      "name": "python3",
      "display_name": "Python 3"
    },
    "language_info": {
      "name": "python"
    }
  },
  "cells": [
    {
      "cell_type": "markdown",
      "source": [
        "## Step 1: Import Libraries\n",
        "Before starting, we need to import the necessary libraries for data manipulation, visualization, and model building. We will use numpy, matplotlib, scikit learn and tenserflow."
      ],
      "metadata": {
        "id": "AuUvtL-AtP8L"
      }
    },
    {
      "cell_type": "code",
      "source": [
        "import numpy as np\n",
        "import pandas as pd\n",
        "import matplotlib.pyplot as plt\n",
        "from sklearn.model_selection import train_test_split\n",
        "from tensorflow.keras.models import Sequential\n",
        "from tensorflow.keras.layers import Dense, Flatten\n",
        "from tensorflow.keras.utils import to_categorical"
      ],
      "metadata": {
        "id": "hEIW9hldpgvj"
      },
      "execution_count": 13,
      "outputs": []
    },
    {
      "cell_type": "markdown",
      "source": [
        "## Step 2: Load and Explore the Dataset\n",
        "We will load the dataset and inspect its structure to understand the features and labels. You can download this dataset from here.\n",
        "\n",
        "The dataset contains 42,000 rows where each row represents an image.\n",
        "The first column (label) indicates the digit (0-9) and the remaining columns represent pixel values of the image.\n",
        "We separate these into X (pixel values) and y (labels).\n",
        "X has 42,000 samples with 784 features (28x28 pixels) and y has 42,000 labels."
      ],
      "metadata": {
        "id": "10gOvE46tVIp"
      }
    },
    {
      "cell_type": "code",
      "source": [
        "train_data = pd.read_csv('/content/drive/MyDrive/My Projects/Handwritten Digit Recognition/Train.csv')\n",
        "print(\"Shape of train_data:\", train_data.shape)\n",
        "\n",
        "\n",
        "X = train_data.iloc[:, 1:]\n",
        "y = train_data.iloc[:, 0]\n",
        "\n",
        "print(\"Shape of X after separating features:\", X.shape)"
      ],
      "metadata": {
        "colab": {
          "base_uri": "https://localhost:8080/"
        },
        "id": "8AAXaaDzs7hS",
        "outputId": "8f15af95-d9d3-4f91-90f9-7192c0171416"
      },
      "execution_count": 14,
      "outputs": [
        {
          "output_type": "stream",
          "name": "stdout",
          "text": [
            "Shape of train_data: (42000, 785)\n",
            "Shape of X after separating features: (42000, 784)\n"
          ]
        }
      ]
    },
    {
      "cell_type": "markdown",
      "source": [
        "## Step 3: Preprocess the Data\n",
        "Raw data often needs cleaning and formatting before it can be fed into a neural network. Let’s preprocess the data to make it ready for training.\n",
        "\n",
        "First we ensure X is in the correct format (Pandas DataFrame).\n",
        "Then we convert all pixel values to numeric format and replace any missing values with 0.\n",
        "Next we normalize the pixel values to the range [0, 1] by dividing them by 255.0. This helps the model learn faster.\n",
        "Finally we reshape the data to include a channel dimension making it compatible with neural networks."
      ],
      "metadata": {
        "id": "l8Vz-XtltdG3"
      }
    },
    {
      "cell_type": "code",
      "source": [
        "if not isinstance(X, pd.DataFrame):\n",
        "    X = pd.DataFrame(X)\n",
        "X = X.apply(pd.to_numeric, errors='coerce')\n",
        "X = X.fillna(0)\n",
        "X = X.values / 255.0\n",
        "X = X.reshape(-1, 28, 28, 1)\n",
        "print(\"Shape of X after reshaping:\", X.shape)"
      ],
      "metadata": {
        "colab": {
          "base_uri": "https://localhost:8080/"
        },
        "id": "L54AcAKltezu",
        "outputId": "1b9a5049-184b-43e5-b94b-d2460e712622"
      },
      "execution_count": 15,
      "outputs": [
        {
          "output_type": "stream",
          "name": "stdout",
          "text": [
            "Shape of X after reshaping: (42000, 28, 28, 1)\n"
          ]
        }
      ]
    },
    {
      "cell_type": "markdown",
      "source": [
        "## Step 4: One-Hot Encode the Labels\n",
        "Neural networks work best when labels are in a specific format called \"one-hot encoding.\" Let’s convert our labels into this format."
      ],
      "metadata": {
        "id": "SpeT0nDat1re"
      }
    },
    {
      "cell_type": "code",
      "source": [
        "y = to_categorical(y, num_classes=10)\n",
        "print(\"Shape of y after one-hot encoding:\", y.shape)"
      ],
      "metadata": {
        "colab": {
          "base_uri": "https://localhost:8080/"
        },
        "id": "1JZoUEHrvdVr",
        "outputId": "5e751105-8fbc-492c-d10b-1083ee698b2c"
      },
      "execution_count": 16,
      "outputs": [
        {
          "output_type": "stream",
          "name": "stdout",
          "text": [
            "Shape of y after one-hot encoding: (42000, 10)\n"
          ]
        }
      ]
    },
    {
      "cell_type": "markdown",
      "source": [
        "## Step 5: Split the Data\n",
        "To evaluate our model effectively we need to split the data into a training set and a validation set. Here we will use 80% data for training rest for testing."
      ],
      "metadata": {
        "id": "9hP8is1rveQS"
      }
    },
    {
      "cell_type": "code",
      "source": [
        "X_train, X_val, y_train, y_val = train_test_split(X, y, test_size=0.2, random_state=42)\n",
        "print(\"X_train shape:\", X_train.shape)"
      ],
      "metadata": {
        "colab": {
          "base_uri": "https://localhost:8080/"
        },
        "id": "wmcGOSjattyK",
        "outputId": "d2f2cfc2-1f44-46a3-ead1-697981b95418"
      },
      "execution_count": 17,
      "outputs": [
        {
          "output_type": "stream",
          "name": "stdout",
          "text": [
            "X_train shape: (33600, 28, 28, 1)\n"
          ]
        }
      ]
    },
    {
      "cell_type": "markdown",
      "source": [
        "## Step 6: Build the Neural Network Model\n",
        "Now let’s define the architecture of our neural network. We define a simple feedforward neural network with three layers:\n",
        "\n",
        "A Flatten layer converts the 28x28 image into a single vector of length 784.\n",
        "Two hidden layers with 128 and 64 neurons use the ReLU activation function to introduce non-linearity.\n",
        "An output layer with 10 neurons uses the softmax activation function to predict probabilities for each digit (0-9).\n",
        "We compile the model with the Adam optimizer, categorical cross-entropy loss, and accuracy as the evaluation metric."
      ],
      "metadata": {
        "id": "4lF_I55rt8Yo"
      }
    },
    {
      "cell_type": "code",
      "source": [
        "model = Sequential([\n",
        "    Flatten(input_shape=(28, 28, 1)),\n",
        "    Dense(128, activation='relu'),\n",
        "    Dense(64, activation='relu'),\n",
        "    Dense(10, activation='softmax')\n",
        "])\n",
        "model.compile(optimizer='adam', loss='categorical_crossentropy', metrics=['accuracy'])\n",
        "model.summary()"
      ],
      "metadata": {
        "colab": {
          "base_uri": "https://localhost:8080/",
          "height": 312
        },
        "id": "q0tFRIfnuAHO",
        "outputId": "f8d94c75-f6c6-4a17-d1bd-589b9b7673c6"
      },
      "execution_count": 18,
      "outputs": [
        {
          "output_type": "stream",
          "name": "stderr",
          "text": [
            "/usr/local/lib/python3.11/dist-packages/keras/src/layers/reshaping/flatten.py:37: UserWarning: Do not pass an `input_shape`/`input_dim` argument to a layer. When using Sequential models, prefer using an `Input(shape)` object as the first layer in the model instead.\n",
            "  super().__init__(**kwargs)\n"
          ]
        },
        {
          "output_type": "display_data",
          "data": {
            "text/plain": [
              "\u001b[1mModel: \"sequential_1\"\u001b[0m\n"
            ],
            "text/html": [
              "<pre style=\"white-space:pre;overflow-x:auto;line-height:normal;font-family:Menlo,'DejaVu Sans Mono',consolas,'Courier New',monospace\"><span style=\"font-weight: bold\">Model: \"sequential_1\"</span>\n",
              "</pre>\n"
            ]
          },
          "metadata": {}
        },
        {
          "output_type": "display_data",
          "data": {
            "text/plain": [
              "┏━━━━━━━━━━━━━━━━━━━━━━━━━━━━━━━━━┳━━━━━━━━━━━━━━━━━━━━━━━━┳━━━━━━━━━━━━━━━┓\n",
              "┃\u001b[1m \u001b[0m\u001b[1mLayer (type)                   \u001b[0m\u001b[1m \u001b[0m┃\u001b[1m \u001b[0m\u001b[1mOutput Shape          \u001b[0m\u001b[1m \u001b[0m┃\u001b[1m \u001b[0m\u001b[1m      Param #\u001b[0m\u001b[1m \u001b[0m┃\n",
              "┡━━━━━━━━━━━━━━━━━━━━━━━━━━━━━━━━━╇━━━━━━━━━━━━━━━━━━━━━━━━╇━━━━━━━━━━━━━━━┩\n",
              "│ flatten_1 (\u001b[38;5;33mFlatten\u001b[0m)             │ (\u001b[38;5;45mNone\u001b[0m, \u001b[38;5;34m784\u001b[0m)            │             \u001b[38;5;34m0\u001b[0m │\n",
              "├─────────────────────────────────┼────────────────────────┼───────────────┤\n",
              "│ dense_3 (\u001b[38;5;33mDense\u001b[0m)                 │ (\u001b[38;5;45mNone\u001b[0m, \u001b[38;5;34m128\u001b[0m)            │       \u001b[38;5;34m100,480\u001b[0m │\n",
              "├─────────────────────────────────┼────────────────────────┼───────────────┤\n",
              "│ dense_4 (\u001b[38;5;33mDense\u001b[0m)                 │ (\u001b[38;5;45mNone\u001b[0m, \u001b[38;5;34m64\u001b[0m)             │         \u001b[38;5;34m8,256\u001b[0m │\n",
              "├─────────────────────────────────┼────────────────────────┼───────────────┤\n",
              "│ dense_5 (\u001b[38;5;33mDense\u001b[0m)                 │ (\u001b[38;5;45mNone\u001b[0m, \u001b[38;5;34m10\u001b[0m)             │           \u001b[38;5;34m650\u001b[0m │\n",
              "└─────────────────────────────────┴────────────────────────┴───────────────┘\n"
            ],
            "text/html": [
              "<pre style=\"white-space:pre;overflow-x:auto;line-height:normal;font-family:Menlo,'DejaVu Sans Mono',consolas,'Courier New',monospace\">┏━━━━━━━━━━━━━━━━━━━━━━━━━━━━━━━━━┳━━━━━━━━━━━━━━━━━━━━━━━━┳━━━━━━━━━━━━━━━┓\n",
              "┃<span style=\"font-weight: bold\"> Layer (type)                    </span>┃<span style=\"font-weight: bold\"> Output Shape           </span>┃<span style=\"font-weight: bold\">       Param # </span>┃\n",
              "┡━━━━━━━━━━━━━━━━━━━━━━━━━━━━━━━━━╇━━━━━━━━━━━━━━━━━━━━━━━━╇━━━━━━━━━━━━━━━┩\n",
              "│ flatten_1 (<span style=\"color: #0087ff; text-decoration-color: #0087ff\">Flatten</span>)             │ (<span style=\"color: #00d7ff; text-decoration-color: #00d7ff\">None</span>, <span style=\"color: #00af00; text-decoration-color: #00af00\">784</span>)            │             <span style=\"color: #00af00; text-decoration-color: #00af00\">0</span> │\n",
              "├─────────────────────────────────┼────────────────────────┼───────────────┤\n",
              "│ dense_3 (<span style=\"color: #0087ff; text-decoration-color: #0087ff\">Dense</span>)                 │ (<span style=\"color: #00d7ff; text-decoration-color: #00d7ff\">None</span>, <span style=\"color: #00af00; text-decoration-color: #00af00\">128</span>)            │       <span style=\"color: #00af00; text-decoration-color: #00af00\">100,480</span> │\n",
              "├─────────────────────────────────┼────────────────────────┼───────────────┤\n",
              "│ dense_4 (<span style=\"color: #0087ff; text-decoration-color: #0087ff\">Dense</span>)                 │ (<span style=\"color: #00d7ff; text-decoration-color: #00d7ff\">None</span>, <span style=\"color: #00af00; text-decoration-color: #00af00\">64</span>)             │         <span style=\"color: #00af00; text-decoration-color: #00af00\">8,256</span> │\n",
              "├─────────────────────────────────┼────────────────────────┼───────────────┤\n",
              "│ dense_5 (<span style=\"color: #0087ff; text-decoration-color: #0087ff\">Dense</span>)                 │ (<span style=\"color: #00d7ff; text-decoration-color: #00d7ff\">None</span>, <span style=\"color: #00af00; text-decoration-color: #00af00\">10</span>)             │           <span style=\"color: #00af00; text-decoration-color: #00af00\">650</span> │\n",
              "└─────────────────────────────────┴────────────────────────┴───────────────┘\n",
              "</pre>\n"
            ]
          },
          "metadata": {}
        },
        {
          "output_type": "display_data",
          "data": {
            "text/plain": [
              "\u001b[1m Total params: \u001b[0m\u001b[38;5;34m109,386\u001b[0m (427.29 KB)\n"
            ],
            "text/html": [
              "<pre style=\"white-space:pre;overflow-x:auto;line-height:normal;font-family:Menlo,'DejaVu Sans Mono',consolas,'Courier New',monospace\"><span style=\"font-weight: bold\"> Total params: </span><span style=\"color: #00af00; text-decoration-color: #00af00\">109,386</span> (427.29 KB)\n",
              "</pre>\n"
            ]
          },
          "metadata": {}
        },
        {
          "output_type": "display_data",
          "data": {
            "text/plain": [
              "\u001b[1m Trainable params: \u001b[0m\u001b[38;5;34m109,386\u001b[0m (427.29 KB)\n"
            ],
            "text/html": [
              "<pre style=\"white-space:pre;overflow-x:auto;line-height:normal;font-family:Menlo,'DejaVu Sans Mono',consolas,'Courier New',monospace\"><span style=\"font-weight: bold\"> Trainable params: </span><span style=\"color: #00af00; text-decoration-color: #00af00\">109,386</span> (427.29 KB)\n",
              "</pre>\n"
            ]
          },
          "metadata": {}
        },
        {
          "output_type": "display_data",
          "data": {
            "text/plain": [
              "\u001b[1m Non-trainable params: \u001b[0m\u001b[38;5;34m0\u001b[0m (0.00 B)\n"
            ],
            "text/html": [
              "<pre style=\"white-space:pre;overflow-x:auto;line-height:normal;font-family:Menlo,'DejaVu Sans Mono',consolas,'Courier New',monospace\"><span style=\"font-weight: bold\"> Non-trainable params: </span><span style=\"color: #00af00; text-decoration-color: #00af00\">0</span> (0.00 B)\n",
              "</pre>\n"
            ]
          },
          "metadata": {}
        }
      ]
    },
    {
      "cell_type": "markdown",
      "source": [
        "## Step 7: Train the Model\n",
        "With the model defined it’s time to train it on the training data. The model trains for 10 iterations (epochs) over the entire training dataset. During training it processes the data in batches of 32 samples for efficiency."
      ],
      "metadata": {
        "id": "8rD2ZXtPuFip"
      }
    },
    {
      "cell_type": "code",
      "source": [
        "history = model.fit(X_train, y_train, epochs=10, batch_size=32, validation_data=(X_val, y_val))"
      ],
      "metadata": {
        "colab": {
          "base_uri": "https://localhost:8080/"
        },
        "id": "B3X0wbUouHup",
        "outputId": "702706c4-ae83-4797-d289-4cf8c867dfad"
      },
      "execution_count": 19,
      "outputs": [
        {
          "output_type": "stream",
          "name": "stdout",
          "text": [
            "Epoch 1/10\n",
            "\u001b[1m1050/1050\u001b[0m \u001b[32m━━━━━━━━━━━━━━━━━━━━\u001b[0m\u001b[37m\u001b[0m \u001b[1m7s\u001b[0m 5ms/step - accuracy: 0.8416 - loss: 0.5470 - val_accuracy: 0.9508 - val_loss: 0.1653\n",
            "Epoch 2/10\n",
            "\u001b[1m1050/1050\u001b[0m \u001b[32m━━━━━━━━━━━━━━━━━━━━\u001b[0m\u001b[37m\u001b[0m \u001b[1m4s\u001b[0m 4ms/step - accuracy: 0.9617 - loss: 0.1269 - val_accuracy: 0.9586 - val_loss: 0.1353\n",
            "Epoch 3/10\n",
            "\u001b[1m1050/1050\u001b[0m \u001b[32m━━━━━━━━━━━━━━━━━━━━\u001b[0m\u001b[37m\u001b[0m \u001b[1m9s\u001b[0m 8ms/step - accuracy: 0.9742 - loss: 0.0844 - val_accuracy: 0.9658 - val_loss: 0.1062\n",
            "Epoch 4/10\n",
            "\u001b[1m1050/1050\u001b[0m \u001b[32m━━━━━━━━━━━━━━━━━━━━\u001b[0m\u001b[37m\u001b[0m \u001b[1m8s\u001b[0m 5ms/step - accuracy: 0.9796 - loss: 0.0634 - val_accuracy: 0.9652 - val_loss: 0.1184\n",
            "Epoch 5/10\n",
            "\u001b[1m1050/1050\u001b[0m \u001b[32m━━━━━━━━━━━━━━━━━━━━\u001b[0m\u001b[37m\u001b[0m \u001b[1m7s\u001b[0m 6ms/step - accuracy: 0.9857 - loss: 0.0440 - val_accuracy: 0.9661 - val_loss: 0.1134\n",
            "Epoch 6/10\n",
            "\u001b[1m1050/1050\u001b[0m \u001b[32m━━━━━━━━━━━━━━━━━━━━\u001b[0m\u001b[37m\u001b[0m \u001b[1m5s\u001b[0m 5ms/step - accuracy: 0.9879 - loss: 0.0370 - val_accuracy: 0.9701 - val_loss: 0.1035\n",
            "Epoch 7/10\n",
            "\u001b[1m1050/1050\u001b[0m \u001b[32m━━━━━━━━━━━━━━━━━━━━\u001b[0m\u001b[37m\u001b[0m \u001b[1m5s\u001b[0m 4ms/step - accuracy: 0.9918 - loss: 0.0274 - val_accuracy: 0.9698 - val_loss: 0.1088\n",
            "Epoch 8/10\n",
            "\u001b[1m1050/1050\u001b[0m \u001b[32m━━━━━━━━━━━━━━━━━━━━\u001b[0m\u001b[37m\u001b[0m \u001b[1m8s\u001b[0m 7ms/step - accuracy: 0.9925 - loss: 0.0224 - val_accuracy: 0.9719 - val_loss: 0.1112\n",
            "Epoch 9/10\n",
            "\u001b[1m1050/1050\u001b[0m \u001b[32m━━━━━━━━━━━━━━━━━━━━\u001b[0m\u001b[37m\u001b[0m \u001b[1m5s\u001b[0m 4ms/step - accuracy: 0.9931 - loss: 0.0203 - val_accuracy: 0.9681 - val_loss: 0.1333\n",
            "Epoch 10/10\n",
            "\u001b[1m1050/1050\u001b[0m \u001b[32m━━━━━━━━━━━━━━━━━━━━\u001b[0m\u001b[37m\u001b[0m \u001b[1m7s\u001b[0m 6ms/step - accuracy: 0.9932 - loss: 0.0201 - val_accuracy: 0.9681 - val_loss: 0.1301\n"
          ]
        }
      ]
    },
    {
      "cell_type": "markdown",
      "source": [
        "## Step 8: Evaluate the Model\n",
        "Once training is complete we evaluate the model’s performance on the validation set and plot the training and validation accuracy to see how well the model learned over time. This helps us identify issues like overfitting."
      ],
      "metadata": {
        "id": "fO-2uteDvtJg"
      }
    },
    {
      "cell_type": "code",
      "source": [
        "val_loss, val_accuracy = model.evaluate(X_val, y_val)\n",
        "print(f\"Validation Accuracy: {val_accuracy * 100:.2f}%\")\n",
        "plt.plot(history.history['accuracy'], label='Training Accuracy')\n",
        "plt.plot(history.history['val_accuracy'], label='Validation Accuracy')\n",
        "plt.legend()\n",
        "plt.show()"
      ],
      "metadata": {
        "colab": {
          "base_uri": "https://localhost:8080/",
          "height": 465
        },
        "id": "bWxCj42uvyoO",
        "outputId": "48be596d-4784-4562-cb65-44b020781380"
      },
      "execution_count": 20,
      "outputs": [
        {
          "output_type": "stream",
          "name": "stdout",
          "text": [
            "\u001b[1m263/263\u001b[0m \u001b[32m━━━━━━━━━━━━━━━━━━━━\u001b[0m\u001b[37m\u001b[0m \u001b[1m1s\u001b[0m 2ms/step - accuracy: 0.9672 - loss: 0.1350\n",
            "Validation Accuracy: 96.81%\n"
          ]
        },
        {
          "output_type": "display_data",
          "data": {
            "text/plain": [
              "<Figure size 640x480 with 1 Axes>"
            ],
            "image/png": "[encoded data removed]"
          },
          "metadata": {}
        }
      ]
    },
    {
      "cell_type": "markdown",
      "source": [],
      "metadata": {
        "id": "RvQmSsorvwtn"
      }
    },
    {
      "cell_type": "markdown",
      "source": [
        "## Step 9: Make Predictions\n",
        "Let’s use the trained model to make predictions on new data. We load the test data preprocess it similarly to the training data and feed it into the model to get predictions."
      ],
      "metadata": {
        "id": "BpUX0kqFv8wj"
      }
    },
    {
      "cell_type": "markdown",
      "source": [
        "### Try 9"
      ],
      "metadata": {
        "id": "Vtc0UNds0z-Q"
      }
    },
    {
      "cell_type": "code",
      "source": [
        "import cv2\n",
        "import pandas as pd\n",
        "\n",
        "# Load the image\n",
        "image = cv2.imread(\"/content/drive/MyDrive/My Projects/Handwritten Digit Recognition/test9.png\", cv2.IMREAD_GRAYSCALE)\n",
        "resized_image = cv2.resize(image, (28, 28))\n",
        "# Flatten the image into a single row\n",
        "csv_row = resized_image.flatten()\n",
        "\n",
        "# Save to CSV\n",
        "df = pd.DataFrame([csv_row])\n",
        "df.to_csv(r\"/content/drive/MyDrive/My Projects/Handwritten Digit Recognition/test9.csv\", index=False)\n",
        "\n"
      ],
      "metadata": {
        "id": "bE7rb7evxGtO"
      },
      "execution_count": 32,
      "outputs": []
    },
    {
      "cell_type": "code",
      "source": [
        "test_data = pd.read_csv('/content/drive/MyDrive/My Projects/Handwritten Digit Recognition/test9.csv')\n",
        "X_test = test_data.values / 255.0\n",
        "X_test = X_test.reshape(-1, 28, 28, 1)\n",
        "predictions = model.predict(X_test)\n",
        "predicted_labels = np.argmax(predictions, axis=1)\n",
        "\n",
        "# Iterate up to the number of samples in X_test\n",
        "for i in range(X_test.shape[0]):\n",
        "    plt.imshow(X_test[i].reshape(28, 28), cmap='gray')\n",
        "    plt.title(f\"Predicted: {predicted_labels[i]}\")\n",
        "    plt.axis('off')\n",
        "    plt.show()"
      ],
      "metadata": {
        "colab": {
          "base_uri": "https://localhost:8080/",
          "height": 445
        },
        "id": "bHmwLLFbv-qt",
        "outputId": "58c5818f-17f2-4f3c-d290-fb9c5a81bc8a"
      },
      "execution_count": 42,
      "outputs": [
        {
          "output_type": "stream",
          "name": "stdout",
          "text": [
            "\u001b[1m1/1\u001b[0m \u001b[32m━━━━━━━━━━━━━━━━━━━━\u001b[0m\u001b[37m\u001b[0m \u001b[1m0s\u001b[0m 37ms/step\n"
          ]
        },
        {
          "output_type": "display_data",
          "data": {
            "text/plain": [
              "<Figure size 640x480 with 1 Axes>"
            ],
            "image/png": "[encoded data removed]"
          },
          "metadata": {}
        }
      ]
    },
    {
      "cell_type": "code",
      "source": [],
      "metadata": {
        "id": "FGBxgI6U0FPA"
      },
      "execution_count": null,
      "outputs": []
    },
    {
      "cell_type": "markdown",
      "source": [
        "### Try 4"
      ],
      "metadata": {
        "id": "PidM-9Id05iM"
      }
    },
    {
      "cell_type": "code",
      "source": [
        "import cv2\n",
        "import pandas as pd\n",
        "\n",
        "# Load the image\n",
        "image = cv2.imread(\"/content/drive/MyDrive/My Projects/Handwritten Digit Recognition/test4.png\", cv2.IMREAD_GRAYSCALE)\n",
        "resized_image = cv2.resize(image, (28, 28))\n",
        "# Flatten the image into a single row\n",
        "csv_row = resized_image.flatten()\n",
        "\n",
        "# Save to CSV\n",
        "df = pd.DataFrame([csv_row])\n",
        "df.to_csv(r\"/content/drive/MyDrive/My Projects/Handwritten Digit Recognition/test4.csv\", index=False)\n",
        "\n"
      ],
      "metadata": {
        "id": "mlCj0U9e05iN"
      },
      "execution_count": 45,
      "outputs": []
    },
    {
      "cell_type": "code",
      "source": [
        "test_data = pd.read_csv('/content/drive/MyDrive/My Projects/Handwritten Digit Recognition/test4.csv')\n",
        "X_test = test_data.values / 255.0\n",
        "X_test = X_test.reshape(-1, 28, 28, 1)\n",
        "predictions = model.predict(X_test)\n",
        "predicted_labels = np.argmax(predictions, axis=1)\n",
        "\n",
        "# Iterate up to the number of samples in X_test\n",
        "for i in range(X_test.shape[0]):\n",
        "    plt.imshow(X_test[i].reshape(28, 28), cmap='gray')\n",
        "    plt.title(f\"Predicted: {predicted_labels[i]}\")\n",
        "    plt.axis('off')\n",
        "    plt.show()"
      ],
      "metadata": {
        "colab": {
          "base_uri": "https://localhost:8080/",
          "height": 445
        },
        "outputId": "283cca2c-857e-4f18-fe50-f8e9c97d259e",
        "id": "QVQYJZTz05iN"
      },
      "execution_count": 46,
      "outputs": [
        {
          "output_type": "stream",
          "name": "stdout",
          "text": [
            "\u001b[1m1/1\u001b[0m \u001b[32m━━━━━━━━━━━━━━━━━━━━\u001b[0m\u001b[37m\u001b[0m \u001b[1m0s\u001b[0m 47ms/step\n"
          ]
        },
        {
          "output_type": "display_data",
          "data": {
            "text/plain": [
              "<Figure size 640x480 with 1 Axes>"
            ],
            "image/png": "[encoded data removed]"
          },
          "metadata": {}
        }
      ]
    },
    {
      "cell_type": "code",
      "source": [],
      "metadata": {
        "id": "uyafHR0D05iN"
      },
      "execution_count": null,
      "outputs": []
    },
    {
      "cell_type": "markdown",
      "source": [
        "### Try 5"
      ],
      "metadata": {
        "id": "Fd8ZQHfw1lkD"
      }
    },
    {
      "cell_type": "code",
      "source": [
        "import cv2\n",
        "import pandas as pd\n",
        "\n",
        "# Load the image\n",
        "image = cv2.imread(\"/content/drive/MyDrive/My Projects/Handwritten Digit Recognition/test5.png\", cv2.IMREAD_GRAYSCALE)\n",
        "resized_image = cv2.resize(image, (28, 28))\n",
        "# Flatten the image into a single row\n",
        "csv_row = resized_image.flatten()\n",
        "\n",
        "# Save to CSV\n",
        "df = pd.DataFrame([csv_row])\n",
        "df.to_csv(r\"/content/drive/MyDrive/My Projects/Handwritten Digit Recognition/test5.csv\", index=False)\n",
        "\n"
      ],
      "metadata": {
        "id": "NIX1OKe11lkD"
      },
      "execution_count": 49,
      "outputs": []
    },
    {
      "cell_type": "code",
      "source": [
        "test_data = pd.read_csv('/content/drive/MyDrive/My Projects/Handwritten Digit Recognition/test5.csv')\n",
        "X_test = test_data.values / 255.0\n",
        "X_test = X_test.reshape(-1, 28, 28, 1)\n",
        "predictions = model.predict(X_test)\n",
        "predicted_labels = np.argmax(predictions, axis=1)\n",
        "\n",
        "# Iterate up to the number of samples in X_test\n",
        "for i in range(X_test.shape[0]):\n",
        "    plt.imshow(X_test[i].reshape(28, 28), cmap='gray')\n",
        "    plt.title(f\"Predicted: {predicted_labels[i]}\")\n",
        "    plt.axis('off')\n",
        "    plt.show()"
      ],
      "metadata": {
        "colab": {
          "base_uri": "https://localhost:8080/",
          "height": 445
        },
        "outputId": "27a68259-e919-4280-9c03-fef58138ead3",
        "id": "1H5cg-9w1lkE"
      },
      "execution_count": 50,
      "outputs": [
        {
          "output_type": "stream",
          "name": "stdout",
          "text": [
            "\u001b[1m1/1\u001b[0m \u001b[32m━━━━━━━━━━━━━━━━━━━━\u001b[0m\u001b[37m\u001b[0m \u001b[1m0s\u001b[0m 46ms/step\n"
          ]
        },
        {
          "output_type": "display_data",
          "data": {
            "text/plain": [
              "<Figure size 640x480 with 1 Axes>"
            ],
            "image/png": "[encoded data removed]"
          },
          "metadata": {}
        }
      ]
    },
    {
      "cell_type": "code",
      "source": [],
      "metadata": {
        "id": "zj_pXNrJ1lkE"
      },
      "execution_count": 48,
      "outputs": []
    },
    {
      "cell_type": "markdown",
      "source": [
        "### Try 6"
      ],
      "metadata": {
        "id": "EyU4QjTN2KFJ"
      }
    },
    {
      "cell_type": "code",
      "source": [
        "import cv2\n",
        "import pandas as pd\n",
        "\n",
        "# Load the image\n",
        "image = cv2.imread(\"/content/drive/MyDrive/My Projects/Handwritten Digit Recognition/test6.png\", cv2.IMREAD_GRAYSCALE)\n",
        "resized_image = cv2.resize(image, (28, 28))\n",
        "# Flatten the image into a single row\n",
        "csv_row = resized_image.flatten()\n",
        "\n",
        "# Save to CSV\n",
        "df = pd.DataFrame([csv_row])\n",
        "df.to_csv(r\"/content/drive/MyDrive/My Projects/Handwritten Digit Recognition/test6.csv\", index=False)\n",
        "\n"
      ],
      "metadata": {
        "id": "IqiP7K3X2KFJ"
      },
      "execution_count": 51,
      "outputs": []
    },
    {
      "cell_type": "code",
      "source": [
        "test_data = pd.read_csv('/content/drive/MyDrive/My Projects/Handwritten Digit Recognition/test6.csv')\n",
        "X_test = test_data.values / 255.0\n",
        "X_test = X_test.reshape(-1, 28, 28, 1)\n",
        "predictions = model.predict(X_test)\n",
        "predicted_labels = np.argmax(predictions, axis=1)\n",
        "\n",
        "# Iterate up to the number of samples in X_test\n",
        "for i in range(X_test.shape[0]):\n",
        "    plt.imshow(X_test[i].reshape(28, 28), cmap='gray')\n",
        "    plt.title(f\"Predicted: {predicted_labels[i]}\")\n",
        "    plt.axis('off')\n",
        "    plt.show()"
      ],
      "metadata": {
        "colab": {
          "base_uri": "https://localhost:8080/",
          "height": 445
        },
        "outputId": "289ab2a6-ca3c-4403-b3d1-7245e133df31",
        "id": "lUmL5xfR2KFK"
      },
      "execution_count": 52,
      "outputs": [
        {
          "output_type": "stream",
          "name": "stdout",
          "text": [
            "\u001b[1m1/1\u001b[0m \u001b[32m━━━━━━━━━━━━━━━━━━━━\u001b[0m\u001b[37m\u001b[0m \u001b[1m0s\u001b[0m 40ms/step\n"
          ]
        },
        {
          "output_type": "display_data",
          "data": {
            "text/plain": [
              "<Figure size 640x480 with 1 Axes>"
            ],
            "image/png": "[encoded data removed]"
          },
          "metadata": {}
        }
      ]
    },
    {
      "cell_type": "code",
      "source": [],
      "metadata": {
        "id": "XosenWaa2KFK"
      },
      "execution_count": null,
      "outputs": []
    }
  ]
}